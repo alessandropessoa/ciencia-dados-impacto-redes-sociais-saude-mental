


import pandas as pd





ds =  pd.read_csv("datsetPeqsuisaFinal.csv", encoding='utf-8',sep=",")


ds


ds.info()


ds.keys()


representacao = dicionario = {titulo: idx for idx, titulo in enumerate(ds.keys())}


representacao 


df =ds.copy()


df.columns = range(len(df.columns))


df


df.replace("Coluna 1",True)


# Substituir NaN por False nas colunas de 8 a 18 e 40 a 49
colunasSubstitutas = list(range(8, 19)) + list(range(40, 50))
df[colunasSubstitutas] = df[colunasSubstitutas].fillna(False).infer_objects(copy=False)


df


pd.set_option('future.no_silent_downcasting', True)
df.replace("Coluna 1",True,inplace=True)


# df.drop(50,axis=1,inplace=True)


df.info()


subset = pd.concat([df.iloc[:, 8:19], df.iloc[:, 40:50]], axis=1)



subset 
