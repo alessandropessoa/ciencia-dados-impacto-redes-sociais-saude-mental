


import pandas as pd
from typing import Optional


import hashlib
import uuid






ds =  pd.read_csv("datsetPeqsuisaFinal.csv", encoding='utf-8',sep=",")






class GerenciadorAnonimizacao:
    def __init__(self, email: Optional[str] = None):
        """
        Inicializa o gerenciador de anonimização com um e-mail opcional.
        """
        self.email = email

    def set_email(self, email: str):
        """
        Define o e-mail a ser anonimizado.
        """
        self.email = email

    def anonimizar_uuid(self) -> Optional[str]:
        """
        Anonimiza o e-mail usando UUID (namespace DNS).
        """
        if self.email and pd.notnull(self.email):
            return str(uuid.uuid5(uuid.NAMESPACE_DNS, self.email))
        return None

    def anonimizar_sha(self) -> Optional[str]:
        """
        Anonimiza o e-mail usando SHA-256.
        """
        if self.email and pd.notnull(self.email):
            return hashlib.sha256(self.email.encode('utf-8')).hexdigest()
        return None

    @staticmethod
    def anonimizar_email_legivel(email: str) -> Optional[str]:
        """
        Anonimiza o e-mail de forma legível, preservando o domínio.
        """
        try:
            local, domain = email.split('@')
            anonymized_local = (
                local[0] + '*' * (len(local) - 2) + local[-1] if len(local) > 2 else '*' * len(local)
            )
            return anonymized_local + '@' + domain
        except:
            return email  # Retorna o dado original se não for um e-mail válido



def aplicarSha(email):
    gerenciador = GerenciadorAnonimizacao(email=email)
    return gerenciador.anonimizar_sha()

def aplicarUuid(email):
    gerenciador = GerenciadorAnonimizacao(email=email)
    return gerenciador.anonimizar_uuid()

def aplicarAnonimizacaoLegivel(email):
    return GerenciadorAnonimizacao.anonimizar_email_legivel(email)
    
    


# Aplicar anonimização à coluna de e-mail
opcaoAnonimizacao = "UUID"
if 'Endereço de e-mail' in ds.columns:
    match opcaoAnonimizacao:
        case "UUID":
            ds['Endereço de e-mail'] = ds['Endereço de e-mail'].apply(aplicarUuid)

        case "SHA256":
            ds['Endereço de e-mail'] = ds['Endereço de e-mail'].apply(aplicarSha)
            
        case "LEGIVEL":
            ds['Endereço de e-mail'] =  ds['Endereço de e-mail'].apply(aplicarAnonimizacaoLegivel)
            



ds


ds.to_csv("datsetPeqsuisaAnonimizado.csv")





dsAnonimizado = pd.read_csv("datsetPeqsuisaAnonimizado.csv")


dsAnonimizado.drop(columns=['Unnamed: 0'], inplace=True)


dsAnonimizado.info()


dsAnonimizado.keys()


representacao = {titulo: idx for idx, titulo in enumerate(dsAnonimizado.keys())}


representacao 


df = dsAnonimizado.copy()


df.columns = range(len(df.columns))


df


colunas_para_substituir = [8,9,10,11,12,13,14,15,16,17,18,40,41,42,43,44,45,46,47,48,49,50]


df[colunas_para_substituir]=df[colunas_para_substituir].replace("Coluna 1",1)
df[colunas_para_substituir]= df[colunas_para_substituir].fillna(0)


df





#substitui idade de sexo feminino pela mediana das idades
df.loc[50,2] = 51



df.groupby([3,2]).size().reset_index(name='Qauntidade')


df[2] = pd.to_numeric(df[2],errors='coerce')


df[df[3]=='Feminino'][2].mean()


df.loc[39,2] = 40 


valor_especifico = 'Youtube, TikTok, Whatsapp'


filtro = df[df[4] == valor_especifico]


filtro 


df.mode()


def substituiMediana(ds,coluna):
    mediana = df[coluna].median()
    ds[coluna].fillna(mediana, inplace=True)
    
def substituiModa(ds,coluna):
    moda = df[coluna].mode()
    ds[coluna].fillna(moda, inplace=True)


df[6] = df[6].fillna('Cisgênero (é o sexo que nasceu)')


df


df.info()


representacao 


colunas = list(range(8,19))


colunas.insert(0,0)
colunas


dsAnterior = df[colunas]
dsAnterior


colunas = list(range(40,51))


colunas.insert(0,0)
colunas


dsPosterior = df[colunas]
dsPosterior


dfCensurado = pd.merge(dsAnterior,dsPosterior, on=0, how='inner')
dfCensurado


# Converter apenas as colunas com tipo float para bool
for col in dfCensurado.select_dtypes(include=['float']).columns:
    dfCensurado[col] = dfCensurado[col].astype(bool)

for col in dsAnterior.select_dtypes(include=['float']).columns:
    dsAnterior[col] = dsAnterior[col].astype(bool)

for col in dsPosterior.select_dtypes(include=['float']).columns:
    dsPosterior[col] = dsPosterior[col].astype(bool)


dfCensurado[50]


dfCensurado


 dfCensurado.info()


dfCensurado_novo = pd.DataFrame()


for col1, col2 in zip(dsAnterior.drop(0,axis=1), dsPosterior.drop(0,axis=1)):
    print(col1, col2)
    dfCensurado_novo[f'Fusao_{col1}_{col2}'] = dsAnterior[col1] | dsPosterior[col2]


dfCensurado_novo


dfCensurado_novo.sum()


representacao 


representacao 
